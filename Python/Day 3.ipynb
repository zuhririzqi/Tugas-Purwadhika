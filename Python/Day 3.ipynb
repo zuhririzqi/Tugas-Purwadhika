{
 "cells": [
  {
   "cell_type": "code",
   "execution_count": 5,
   "metadata": {},
   "outputs": [],
   "source": [
    "#Q1\n",
    "def factorial(num):\n",
    "    if num == 0:\n",
    "        return 1\n",
    "    elif num < 0:\n",
    "        return None\n",
    "    else:\n",
    "        return num*factorial(num-1)\n",
    "\n",
    "assert factorial(0) == 1\n",
    "assert factorial(3) == 6\n",
    "assert factorial(10) == 3628800\n",
    "assert factorial(-10) == None     \n"
   ]
  },
  {
   "cell_type": "code",
   "execution_count": 76,
   "metadata": {},
   "outputs": [
    {
     "data": {
      "text/plain": [
       "'1h 1m 0s'"
      ]
     },
     "execution_count": 76,
     "metadata": {},
     "output_type": "execute_result"
    }
   ],
   "source": [
    "#Q2\n",
    "totalSeconds = 3660\n",
    "\n",
    "\n",
    "\n",
    "def timeConvert (totalSeconds):\n",
    "    if totalSeconds ==0:\n",
    "        return \"0s\"\n",
    "    \n",
    "    hour, minutes = 0, 0\n",
    "    while totalSeconds >= 3600:\n",
    "        hour += 1\n",
    "        totalSeconds -= 3600\n",
    "    \n",
    "    while totalSeconds >= 60:\n",
    "        minutes += 1\n",
    "        totalSeconds -= 60\n",
    "    \n",
    "    else:\n",
    "        seconds = totalSeconds\n",
    "\n",
    "    out = []\n",
    "    if hour > 0:\n",
    "        out.append (f'{hour}h')\n",
    "    if minutes > 0:\n",
    "        out.append (f'{minutes}m')\n",
    "    if hour > 0:\n",
    "        out.append (f'{seconds}s')\n",
    "\n",
    "    return ' '.join(out)\n",
    "\n",
    "timeConvert(totalSeconds)\n",
    "\n",
    "\n",
    "\n"
   ]
  },
  {
   "cell_type": "code",
   "execution_count": 80,
   "metadata": {},
   "outputs": [],
   "source": [
    "#Q3\n",
    "def area (l, w):\n",
    "    return l*w\n",
    "\n",
    "def volume (l,w,h):\n",
    "    return l*w*h\n",
    "\n",
    "assert area(10, 10) == 100\n",
    "assert area(0, 9999) == 0\n",
    "assert volume(10, 10, 10) == 1000\n",
    "assert volume(5, 8, 10) == 400"
   ]
  },
  {
   "cell_type": "code",
   "execution_count": 92,
   "metadata": {},
   "outputs": [],
   "source": [
    "#Q4\n",
    "def getColor (x,y):\n",
    "    if x < 0 or x >7 or y < 0 or y >7:\n",
    "        return ''\n",
    "    if (x+y)%2 == 0:\n",
    "        return 'white'\n",
    "    else:\n",
    "        return 'black'\n",
    "    \n",
    "assert getColor(1, 1) == 'white'\n",
    "assert getColor(2, 1) == 'black'\n",
    "assert getColor(1, 2) == 'black'\n",
    "assert getColor(7, 7) == 'white'"
   ]
  },
  {
   "cell_type": "code",
   "execution_count": 86,
   "metadata": {},
   "outputs": [
    {
     "name": "stdout",
     "output_type": "stream",
     "text": [
      " Key #0 : MEET ME BY THE ROSE BUSHES TONIGHT.\n",
      " Key #1 : LDDS LD AX SGD QNRD ATRGDR SNMHFGS.\n",
      " Key #2 : KCCR KC ZW RFC PMQC ZSQFCQ RMLGEFR.\n",
      " Key #3 : JBBQ JB YV QEB OLPB YRPEBP QLKFDEQ.\n",
      " Key #4 : IAAP IA XU PDA NKOA XQODAO PKJECDP.\n",
      " Key #5 : HZZO HZ WT OCZ MJNZ WPNCZN OJIDBCO.\n",
      " Key #6 : GYYN GY VS NBY LIMY VOMBYM NIHCABN.\n",
      " Key #7 : FXXM FX UR MAX KHLX UNLAXL MHGBZAM.\n",
      " Key #8 : EWWL EW TQ LZW JGKW TMKZWK LGFAYZL.\n",
      " Key #9 : DVVK DV SP KYV IFJV SLJYVJ KFEZXYK.\n",
      " Key #10 : CUUJ CU RO JXU HEIU RKIXUI JEDYWXJ.\n",
      " Key #11 : BTTI BT QN IWT GDHT QJHWTH IDCXVWI.\n",
      " Key #12 : ASSH AS PM HVS FCGS PIGVSG HCBWUVH.\n",
      " Key #13 : ZRRG ZR OL GUR EBFR OHFURF GBAVTUG.\n",
      " Key #14 : YQQF YQ NK FTQ DAEQ NGETQE FAZUSTF.\n",
      " Key #15 : XPPE XP MJ ESP CZDP MFDSPD EZYTRSE.\n",
      " Key #16 : WOOD WO LI DRO BYCO LECROC DYXSQRD.\n",
      " Key #17 : VNNC VN KH CQN AXBN KDBQNB CXWRPQC.\n",
      " Key #18 : UMMB UM JG BPM ZWAM JCAPMA BWVQOPB.\n",
      " Key #19 : TLLA TL IF AOL YVZL IBZOLZ AVUPNOA.\n",
      " Key #20 : SKKZ SK HE ZNK XUYK HAYNKY ZUTOMNZ.\n",
      " Key #21 : RJJY RJ GD YMJ WTXJ GZXMJX YTSNLMY.\n",
      " Key #22 : QIIX QI FC XLI VSWI FYWLIW XSRMKLX.\n",
      " Key #23 : PHHW PH EB WKH URVH EXVKHV WRQLJKW.\n",
      " Key #24 : OGGV OG DA VJG TQUG DWUJGU VQPKIJV.\n",
      " Key #25 : NFFU NF CZ UIF SPTF CVTIFT UPOJHIU.\n"
     ]
    }
   ],
   "source": [
    "letters = 'ABCDEFGHIJKLMNOPQRSTUVWXYZ'\n",
    "\n",
    "def encrypthor (code):\n",
    "    for key in range (len (letters)):\n",
    "        code_2 = ''\n",
    "        code = code.upper()\n",
    "        for symbol in code:\n",
    "            if symbol in letters:\n",
    "                num = letters.find (symbol)\n",
    "                num = num - key\n",
    "                if num < 0:\n",
    "                    num = num + (len (letters))\n",
    "                code_2 = code_2 + letters [num]\n",
    "            else:\n",
    "                code_2 = code_2 + symbol\n",
    "        print (f' Key #{key} : {code_2}')\n",
    "\n",
    "encrypthor('Meet me by the rose bushes tonight.')"
   ]
  },
  {
   "cell_type": "code",
   "execution_count": null,
   "metadata": {},
   "outputs": [],
   "source": []
  }
 ],
 "metadata": {
  "kernelspec": {
   "display_name": "Python 3",
   "language": "python",
   "name": "python3"
  },
  "language_info": {
   "codemirror_mode": {
    "name": "ipython",
    "version": 3
   },
   "file_extension": ".py",
   "mimetype": "text/x-python",
   "name": "python",
   "nbconvert_exporter": "python",
   "pygments_lexer": "ipython3",
   "version": "3.12.1"
  }
 },
 "nbformat": 4,
 "nbformat_minor": 2
}
