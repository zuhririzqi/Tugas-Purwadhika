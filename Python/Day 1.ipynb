{
 "cells": [
  {
   "cell_type": "code",
   "execution_count": 10,
   "metadata": {},
   "outputs": [
    {
     "data": {
      "text/plain": [
       "5"
      ]
     },
     "execution_count": 10,
     "metadata": {},
     "output_type": "execute_result"
    }
   ],
   "source": [
    "name = input ('Enter your Name')\n",
    "split_name = name.split ()\n",
    "first_name = split_name[0]\n",
    "len (first_name)\n"
   ]
  },
  {
   "cell_type": "code",
   "execution_count": 20,
   "metadata": {},
   "outputs": [
    {
     "data": {
      "text/plain": [
       "'IQRHAAI'"
      ]
     },
     "execution_count": 20,
     "metadata": {},
     "output_type": "execute_result"
    }
   ],
   "source": [
    "name = input ('Enter your Name')\n",
    "without_space = name.replace (' ','')\n",
    "uppercase = without_space.upper()\n",
    "uppercase [1::2]\n"
   ]
  },
  {
   "cell_type": "code",
   "execution_count": 41,
   "metadata": {},
   "outputs": [
    {
     "name": "stdout",
     "output_type": "stream",
     "text": [
      "22\n"
     ]
    },
    {
     "data": {
      "text/plain": [
       "7654"
      ]
     },
     "execution_count": 41,
     "metadata": {},
     "output_type": "execute_result"
    }
   ],
   "source": [
    "number = input ('Please input four digit number')\n",
    "total = int(number [0])+int(number [1])+ int(number [2])+ int(number [3])\n",
    "\n",
    "print (total)\n",
    "int (number [3::-1])\n"
   ]
  },
  {
   "cell_type": "code",
   "execution_count": 59,
   "metadata": {},
   "outputs": [],
   "source": [
    "import math"
   ]
  },
  {
   "cell_type": "code",
   "execution_count": 66,
   "metadata": {},
   "outputs": [
    {
     "name": "stdout",
     "output_type": "stream",
     "text": [
      "Distance adalah 2.236, dan slope adalah 2.0\n"
     ]
    }
   ],
   "source": [
    "x1 = float (input ('Input x1'))\n",
    "y1 = float (input ('Input y1'))\n",
    "\n",
    "x2 = float (input ('Input x2'))\n",
    "y2 = float (input ('Input y2'))\n",
    "\n",
    "distance = round (math.sqrt (((x1-x2)**2)+ ((y1-y2)**2)),3)\n",
    "slope = ((y2-y1)/(x2-x1))\n",
    "\n",
    "\n",
    "print (f'Distance adalah {distance}, dan slope adalah {slope}')\n"
   ]
  },
  {
   "cell_type": "code",
   "execution_count": 105,
   "metadata": {},
   "outputs": [
    {
     "name": "stdout",
     "output_type": "stream",
     "text": [
      "['purwa', ' dhika']\n",
      "dhiwa purka\n"
     ]
    }
   ],
   "source": [
    "sent = input (\"ketik 2 kata dan pisahkan menggunakan koma\")\n",
    "text_split = sent.split (',')\n",
    "text_1 = text_split [0].strip()  #strip untuk menhilangkan spasi\n",
    "text_2 = text_split [1].strip()\n",
    "\n",
    "print (text_split)\n",
    "print (f'{text_2[:3]}{text_1[3:]} {text_1[:3]}{text_2[3:]}')\n"
   ]
  },
  {
   "cell_type": "code",
   "execution_count": 106,
   "metadata": {},
   "outputs": [
    {
     "name": "stdout",
     "output_type": "stream",
     "text": [
      "jpkdaa\n"
     ]
    }
   ],
   "source": [
    "first_text = input ('Enter your first sentence')\n",
    "second_text = input ('Enter your second sentence')\n",
    "\n",
    "\n",
    "print (first_text[0]+second_text[0]+first_text[(len(first_text)//2)]+second_text[(len(second_text)//2)]+first_text[-1]+second_text[-1])"
   ]
  },
  {
   "cell_type": "code",
   "execution_count": 3,
   "metadata": {},
   "outputs": [
    {
     "name": "stdout",
     "output_type": "stream",
     "text": [
      "JD1003DS\n"
     ]
    }
   ],
   "source": [
    "first_text = input ('Enter your first sentence')\n",
    "second_text = input ('Enter your second sentence')\n",
    "\n",
    "print (first_text[:(len(first_text)//2)]+second_text[:]+ first_text[(len(first_text)//2):])"
   ]
  },
  {
   "cell_type": "code",
   "execution_count": null,
   "metadata": {},
   "outputs": [],
   "source": [
    "a"
   ]
  }
 ],
 "metadata": {
  "kernelspec": {
   "display_name": "Python 3",
   "language": "python",
   "name": "python3"
  },
  "language_info": {
   "codemirror_mode": {
    "name": "ipython",
    "version": 3
   },
   "file_extension": ".py",
   "mimetype": "text/x-python",
   "name": "python",
   "nbconvert_exporter": "python",
   "pygments_lexer": "ipython3",
   "version": "3.12.1"
  }
 },
 "nbformat": 4,
 "nbformat_minor": 2
}
