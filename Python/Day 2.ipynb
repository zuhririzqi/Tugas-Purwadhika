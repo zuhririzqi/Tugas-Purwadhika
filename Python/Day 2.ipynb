{
 "cells": [
  {
   "cell_type": "code",
   "execution_count": 16,
   "metadata": {},
   "outputs": [
    {
     "name": "stdout",
     "output_type": "stream",
     "text": [
      "Appeared 3 times\n"
     ]
    }
   ],
   "source": [
    "teks = 'ababaababbbbcccbabcc'\n",
    "word = 'bab'\n",
    "countWord = 0\n",
    "\n",
    "for i in range (len(teks)):\n",
    "    if teks [i:(i+3)] == word:\n",
    "        countWord += 1\n",
    "print (f'Appeared {countWord} times')\n",
    "\n",
    "\n",
    "        \n"
   ]
  },
  {
   "cell_type": "code",
   "execution_count": 151,
   "metadata": {},
   "outputs": [
    {
     "name": "stdout",
     "output_type": "stream",
     "text": [
      "True\n"
     ]
    }
   ],
   "source": [
    "spam = input ('Masukkan kata anda')\n",
    "countO = 0\n",
    "countX = 0\n",
    "result = False\n",
    "\n",
    "for i in range (len(spam)):\n",
    "    if spam [i] == 'o':\n",
    "        countO += 1\n",
    "    elif spam [i] == 'x':\n",
    "        countX += 1\n",
    "\n",
    "    \n",
    "if countO == countX:\n",
    "        result = True\n",
    "\n",
    "print (result)\n",
    "\n",
    "    \n",
    "\n",
    "\n"
   ]
  },
  {
   "cell_type": "code",
   "execution_count": 47,
   "metadata": {},
   "outputs": [
    {
     "name": "stdout",
     "output_type": "stream",
     "text": [
      "Bukan Narsistik\n"
     ]
    }
   ],
   "source": [
    "num = input ('Masukan angka')\n",
    "index = len (num)\n",
    "calculate = 0\n",
    "\n",
    "for i in num:\n",
    "        calculate += int (i)**index\n",
    "\n",
    "if calculate == int (num):\n",
    "        print ('Narsistik')\n",
    "else:\n",
    "        print ('Bukan Narsistik')\n",
    "    \n",
    "\n",
    "    "
   ]
  },
  {
   "cell_type": "code",
   "execution_count": 164,
   "metadata": {},
   "outputs": [
    {
     "name": "stdout",
     "output_type": "stream",
     "text": [
      "1 2 Fizz 4 Buzz Fizz 7 8 Fizz Buzz "
     ]
    }
   ],
   "source": [
    "upTo = input ('masukkan angka')\n",
    "\n",
    "for i in range (1, int(upTo)+1):\n",
    "    if i%5 == 0 and i%3 == 0:\n",
    "        print ('FizzBuzz',end=\" \")\n",
    "    elif i%3== 0:\n",
    "        print ('Fizz', end=\" \")\n",
    "    elif i%5 == 0:\n",
    "        print ('Buzz', end=\" \")\n",
    "    else:\n",
    "        print (i, end=\" \")\n"
   ]
  },
  {
   "cell_type": "code",
   "execution_count": 92,
   "metadata": {},
   "outputs": [
    {
     "name": "stdout",
     "output_type": "stream",
     "text": [
      "The Fox and dog about dog.\n"
     ]
    }
   ],
   "source": [
    "# input\n",
    "text = 'The Fox and fox.'\n",
    "oldText = 'fox' \n",
    "newText = 'dog'\n",
    "\n",
    "if oldText in text: \n",
    "    x= text.replace (oldText, newText)\n",
    "    print (x)\n"
   ]
  },
  {
   "cell_type": "code",
   "execution_count": 173,
   "metadata": {},
   "outputs": [
    {
     "name": "stdout",
     "output_type": "stream",
     "text": [
      "[10, 5.0, 16.0, 8.0, 4.0, 2.0, 1.0]\n"
     ]
    }
   ],
   "source": [
    "num = int (input ('input starting number'))\n",
    "sequence = [num]\n",
    "\n",
    "while (num != 1):\n",
    "    if (num%2 == 0):\n",
    "        num = (num/2)\n",
    "    else:\n",
    "        num = (num*3+1)\n",
    "    sequence.append (num)\n",
    "print (sequence)\n"
   ]
  },
  {
   "cell_type": "code",
   "execution_count": 192,
   "metadata": {},
   "outputs": [
    {
     "name": "stdout",
     "output_type": "stream",
     "text": [
      "[0, 1, 1, 2, 3, 5, 8, 13, 21, 34]\n"
     ]
    }
   ],
   "source": [
    "num = int (input ('input max number'))\n",
    "n0 , n1= 0 , 1\n",
    "n2 = n0+ n1\n",
    "sequence = [n0, n1, n2]\n",
    "\n",
    "if num >= 100:\n",
    "    print ('it may take some time for the output to finish')\n",
    "\n",
    "for i in range (num-3):\n",
    "        n0 = n1\n",
    "        n1 = n2\n",
    "        n2 = n0 + n1\n",
    "        sequence.append (n2)\n",
    "\n",
    "print (sequence)\n",
    "\n",
    "\n",
    "    "
   ]
  },
  {
   "cell_type": "code",
   "execution_count": 191,
   "metadata": {},
   "outputs": [
    {
     "name": "stdout",
     "output_type": "stream",
     "text": [
      " Key #0 : QIIX QI FC XLI VSWI FYWLIW XSRMKLX.\n",
      " Key #1 : PHHW PH EB WKH URVH EXVKHV WRQLJKW.\n",
      " Key #2 : OGGV OG DA VJG TQUG DWUJGU VQPKIJV.\n",
      " Key #3 : NFFU NF CZ UIF SPTF CVTIFT UPOJHIU.\n",
      " Key #4 : MEET ME BY THE ROSE BUSHES TONIGHT.\n",
      " Key #5 : LDDS LD AX SGD QNRD ATRGDR SNMHFGS.\n",
      " Key #6 : KCCR KC ZW RFC PMQC ZSQFCQ RMLGEFR.\n",
      " Key #7 : JBBQ JB YV QEB OLPB YRPEBP QLKFDEQ.\n",
      " Key #8 : IAAP IA XU PDA NKOA XQODAO PKJECDP.\n",
      " Key #9 : HZZO HZ WT OCZ MJNZ WPNCZN OJIDBCO.\n",
      " Key #10 : GYYN GY VS NBY LIMY VOMBYM NIHCABN.\n",
      " Key #11 : FXXM FX UR MAX KHLX UNLAXL MHGBZAM.\n",
      " Key #12 : EWWL EW TQ LZW JGKW TMKZWK LGFAYZL.\n",
      " Key #13 : DVVK DV SP KYV IFJV SLJYVJ KFEZXYK.\n",
      " Key #14 : CUUJ CU RO JXU HEIU RKIXUI JEDYWXJ.\n",
      " Key #15 : BTTI BT QN IWT GDHT QJHWTH IDCXVWI.\n",
      " Key #16 : ASSH AS PM HVS FCGS PIGVSG HCBWUVH.\n",
      " Key #17 : ZRRG ZR OL GUR EBFR OHFURF GBAVTUG.\n",
      " Key #18 : YQQF YQ NK FTQ DAEQ NGETQE FAZUSTF.\n",
      " Key #19 : XPPE XP MJ ESP CZDP MFDSPD EZYTRSE.\n",
      " Key #20 : WOOD WO LI DRO BYCO LECROC DYXSQRD.\n",
      " Key #21 : VNNC VN KH CQN AXBN KDBQNB CXWRPQC.\n",
      " Key #22 : UMMB UM JG BPM ZWAM JCAPMA BWVQOPB.\n",
      " Key #23 : TLLA TL IF AOL YVZL IBZOLZ AVUPNOA.\n",
      " Key #24 : SKKZ SK HE ZNK XUYK HAYNKY ZUTOMNZ.\n",
      " Key #25 : RJJY RJ GD YMJ WTXJ GZXMJX YTSNLMY.\n"
     ]
    }
   ],
   "source": [
    "code = input ('Enter the message to hack')\n",
    "letters = 'ABCDEFGHIJKLMNOPQRSTUVWXYZ'\n",
    "\n",
    "for key in range (len (letters)):\n",
    "    code_2 = ''\n",
    "    for symbol in code:\n",
    "        if symbol in letters:\n",
    "            num = letters.find (symbol)\n",
    "            num = num - key\n",
    "            if num < 0:\n",
    "                num = num + (len (letters))\n",
    "            code_2 = code_2 + letters [num]\n",
    "        else:\n",
    "            code_2 = code_2 + symbol\n",
    "    print (f' Key #{key} : {code_2}')\n"
   ]
  }
 ],
 "metadata": {
  "kernelspec": {
   "display_name": "Python 3",
   "language": "python",
   "name": "python3"
  },
  "language_info": {
   "codemirror_mode": {
    "name": "ipython",
    "version": 3
   },
   "file_extension": ".py",
   "mimetype": "text/x-python",
   "name": "python",
   "nbconvert_exporter": "python",
   "pygments_lexer": "ipython3",
   "version": "3.12.1"
  }
 },
 "nbformat": 4,
 "nbformat_minor": 2
}
